{
  "nbformat": 4,
  "nbformat_minor": 0,
  "metadata": {
    "colab": {
      "name": "Quotesnstories.ipynb",
      "provenance": []
    },
    "kernelspec": {
      "name": "python3",
      "display_name": "Python 3"
    }
  },
  "cells": [
    {
      "cell_type": "code",
      "metadata": {
        "id": "eknU4rz-OAAQ",
        "colab_type": "code",
        "colab": {
          "base_uri": "https://localhost:8080/",
          "height": 175
        },
        "outputId": "3670ce4a-793d-42de-ccbb-57567950f4db"
      },
      "source": [
        "#Running and buliding the recommender system on given dummy data\n",
        "\n",
        "#Import the required libraries\n",
        "import numpy as np\n",
        "import pandas as pd\n",
        "\n",
        "#Making dataframe with the given dataset\n",
        "df = pd.DataFrame()\n",
        "\n",
        "id =  [0,1,2,3]\n",
        "website_name = ['Gitlab.com','Cloudbees.com','squarespace.com','Wix.com']\n",
        "Service = ['From project planning and source code management to CI/CD and monitoring, GitLab is a complete DevOps platform, delivered as a single application. Only GitLab enables Concurrent DevOps to make the software lifecycle 200% faster','Reduce risk, optimize software delivery and accelerate innovation with CloudBees - the industry-leading DevOps technology platform. Build Stuff That Matters','Squarespace is the all-in-one solution for anyone looking to create a beautiful website. Domains, eCommerce, hosting, galleries, analytics, and 24/7 support all included','Create a free website with Wix.com. Choose a stunning template and customize anything with the Wix website builder—no coding skills needed. Create yours today!']\n",
        "\n",
        "df['id'] = id\n",
        "df['website'] = website_name\n",
        "df['Service'] = Service\n",
        "\n",
        "df\n"
      ],
      "execution_count": 1,
      "outputs": [
        {
          "output_type": "execute_result",
          "data": {
            "text/html": [
              "<div>\n",
              "<style scoped>\n",
              "    .dataframe tbody tr th:only-of-type {\n",
              "        vertical-align: middle;\n",
              "    }\n",
              "\n",
              "    .dataframe tbody tr th {\n",
              "        vertical-align: top;\n",
              "    }\n",
              "\n",
              "    .dataframe thead th {\n",
              "        text-align: right;\n",
              "    }\n",
              "</style>\n",
              "<table border=\"1\" class=\"dataframe\">\n",
              "  <thead>\n",
              "    <tr style=\"text-align: right;\">\n",
              "      <th></th>\n",
              "      <th>id</th>\n",
              "      <th>website</th>\n",
              "      <th>Service</th>\n",
              "    </tr>\n",
              "  </thead>\n",
              "  <tbody>\n",
              "    <tr>\n",
              "      <th>0</th>\n",
              "      <td>0</td>\n",
              "      <td>Gitlab.com</td>\n",
              "      <td>From project planning and source code manageme...</td>\n",
              "    </tr>\n",
              "    <tr>\n",
              "      <th>1</th>\n",
              "      <td>1</td>\n",
              "      <td>Cloudbees.com</td>\n",
              "      <td>Reduce risk, optimize software delivery and ac...</td>\n",
              "    </tr>\n",
              "    <tr>\n",
              "      <th>2</th>\n",
              "      <td>2</td>\n",
              "      <td>squarespace.com</td>\n",
              "      <td>Squarespace is the all-in-one solution for any...</td>\n",
              "    </tr>\n",
              "    <tr>\n",
              "      <th>3</th>\n",
              "      <td>3</td>\n",
              "      <td>Wix.com</td>\n",
              "      <td>Create a free website with Wix.com. Choose a s...</td>\n",
              "    </tr>\n",
              "  </tbody>\n",
              "</table>\n",
              "</div>"
            ],
            "text/plain": [
              "   id          website                                            Service\n",
              "0   0       Gitlab.com  From project planning and source code manageme...\n",
              "1   1    Cloudbees.com  Reduce risk, optimize software delivery and ac...\n",
              "2   2  squarespace.com  Squarespace is the all-in-one solution for any...\n",
              "3   3          Wix.com  Create a free website with Wix.com. Choose a s..."
            ]
          },
          "metadata": {
            "tags": []
          },
          "execution_count": 1
        }
      ]
    },
    {
      "cell_type": "code",
      "metadata": {
        "id": "FY0MPRaaPRBE",
        "colab_type": "code",
        "colab": {
          "base_uri": "https://localhost:8080/",
          "height": 230
        },
        "outputId": "0e9a8655-55b0-4f19-d707-b86ad04355d0"
      },
      "source": [
        "#Data cleaning steps\n",
        "#Parsing the service column\n",
        "from html.parser import HTMLParser\n",
        "html_parser = HTMLParser()\n",
        "df['Service'] = df['Service'].apply(lambda x: html_parser.unescape(x))\n",
        "df\n"
      ],
      "execution_count": 2,
      "outputs": [
        {
          "output_type": "stream",
          "text": [
            "/usr/local/lib/python3.6/dist-packages/ipykernel_launcher.py:5: DeprecationWarning: The unescape method is deprecated and will be removed in 3.5, use html.unescape() instead.\n",
            "  \"\"\"\n"
          ],
          "name": "stderr"
        },
        {
          "output_type": "execute_result",
          "data": {
            "text/html": [
              "<div>\n",
              "<style scoped>\n",
              "    .dataframe tbody tr th:only-of-type {\n",
              "        vertical-align: middle;\n",
              "    }\n",
              "\n",
              "    .dataframe tbody tr th {\n",
              "        vertical-align: top;\n",
              "    }\n",
              "\n",
              "    .dataframe thead th {\n",
              "        text-align: right;\n",
              "    }\n",
              "</style>\n",
              "<table border=\"1\" class=\"dataframe\">\n",
              "  <thead>\n",
              "    <tr style=\"text-align: right;\">\n",
              "      <th></th>\n",
              "      <th>id</th>\n",
              "      <th>website</th>\n",
              "      <th>Service</th>\n",
              "    </tr>\n",
              "  </thead>\n",
              "  <tbody>\n",
              "    <tr>\n",
              "      <th>0</th>\n",
              "      <td>0</td>\n",
              "      <td>Gitlab.com</td>\n",
              "      <td>From project planning and source code manageme...</td>\n",
              "    </tr>\n",
              "    <tr>\n",
              "      <th>1</th>\n",
              "      <td>1</td>\n",
              "      <td>Cloudbees.com</td>\n",
              "      <td>Reduce risk, optimize software delivery and ac...</td>\n",
              "    </tr>\n",
              "    <tr>\n",
              "      <th>2</th>\n",
              "      <td>2</td>\n",
              "      <td>squarespace.com</td>\n",
              "      <td>Squarespace is the all-in-one solution for any...</td>\n",
              "    </tr>\n",
              "    <tr>\n",
              "      <th>3</th>\n",
              "      <td>3</td>\n",
              "      <td>Wix.com</td>\n",
              "      <td>Create a free website with Wix.com. Choose a s...</td>\n",
              "    </tr>\n",
              "  </tbody>\n",
              "</table>\n",
              "</div>"
            ],
            "text/plain": [
              "   id          website                                            Service\n",
              "0   0       Gitlab.com  From project planning and source code manageme...\n",
              "1   1    Cloudbees.com  Reduce risk, optimize software delivery and ac...\n",
              "2   2  squarespace.com  Squarespace is the all-in-one solution for any...\n",
              "3   3          Wix.com  Create a free website with Wix.com. Choose a s..."
            ]
          },
          "metadata": {
            "tags": []
          },
          "execution_count": 2
        }
      ]
    },
    {
      "cell_type": "code",
      "metadata": {
        "id": "sJCf0WtfPVqL",
        "colab_type": "code",
        "colab": {
          "base_uri": "https://localhost:8080/",
          "height": 175
        },
        "outputId": "8b038b6b-d2f3-46d9-c77d-aac2b8aace57"
      },
      "source": [
        "\n",
        "# Appostophes = {\"'s\":\"is\",\"'re\":\"are\"}\n",
        "# words = df['Service']).split()\n",
        "# df['Service'] = [Appostophes[word] if word in Appostophes else word for word in words]\n",
        "# df['Service'] = \"\".join(df['Service'])\n",
        "\n",
        "#Lowering all the words\n",
        "import re\n",
        "df['Service']= df['Service'].apply(lambda x: x.lower())\n",
        "\n",
        "#Extracting only words from Service\n",
        "df['Service'] = df['Service'].apply(lambda x: re.sub(r'#[\\W]*',' ',x))\n",
        "\n",
        "df"
      ],
      "execution_count": 3,
      "outputs": [
        {
          "output_type": "execute_result",
          "data": {
            "text/html": [
              "<div>\n",
              "<style scoped>\n",
              "    .dataframe tbody tr th:only-of-type {\n",
              "        vertical-align: middle;\n",
              "    }\n",
              "\n",
              "    .dataframe tbody tr th {\n",
              "        vertical-align: top;\n",
              "    }\n",
              "\n",
              "    .dataframe thead th {\n",
              "        text-align: right;\n",
              "    }\n",
              "</style>\n",
              "<table border=\"1\" class=\"dataframe\">\n",
              "  <thead>\n",
              "    <tr style=\"text-align: right;\">\n",
              "      <th></th>\n",
              "      <th>id</th>\n",
              "      <th>website</th>\n",
              "      <th>Service</th>\n",
              "    </tr>\n",
              "  </thead>\n",
              "  <tbody>\n",
              "    <tr>\n",
              "      <th>0</th>\n",
              "      <td>0</td>\n",
              "      <td>Gitlab.com</td>\n",
              "      <td>from project planning and source code manageme...</td>\n",
              "    </tr>\n",
              "    <tr>\n",
              "      <th>1</th>\n",
              "      <td>1</td>\n",
              "      <td>Cloudbees.com</td>\n",
              "      <td>reduce risk, optimize software delivery and ac...</td>\n",
              "    </tr>\n",
              "    <tr>\n",
              "      <th>2</th>\n",
              "      <td>2</td>\n",
              "      <td>squarespace.com</td>\n",
              "      <td>squarespace is the all-in-one solution for any...</td>\n",
              "    </tr>\n",
              "    <tr>\n",
              "      <th>3</th>\n",
              "      <td>3</td>\n",
              "      <td>Wix.com</td>\n",
              "      <td>create a free website with wix.com. choose a s...</td>\n",
              "    </tr>\n",
              "  </tbody>\n",
              "</table>\n",
              "</div>"
            ],
            "text/plain": [
              "   id          website                                            Service\n",
              "0   0       Gitlab.com  from project planning and source code manageme...\n",
              "1   1    Cloudbees.com  reduce risk, optimize software delivery and ac...\n",
              "2   2  squarespace.com  squarespace is the all-in-one solution for any...\n",
              "3   3          Wix.com  create a free website with wix.com. choose a s..."
            ]
          },
          "metadata": {
            "tags": []
          },
          "execution_count": 3
        }
      ]
    },
    {
      "cell_type": "code",
      "metadata": {
        "id": "KPAHFaUiPYyI",
        "colab_type": "code",
        "colab": {
          "base_uri": "https://localhost:8080/",
          "height": 104
        },
        "outputId": "bc0aea46-ec22-4fa0-b25b-afe8d05b3978"
      },
      "source": [
        "df[\"Service\"] = df[\"Service\"].apply(lambda x: re.sub(r'[^a-zA-Z0-9]',' ',x))\n",
        "df['Service']    "
      ],
      "execution_count": 4,
      "outputs": [
        {
          "output_type": "execute_result",
          "data": {
            "text/plain": [
              "0    from project planning and source code manageme...\n",
              "1    reduce risk  optimize software delivery and ac...\n",
              "2    squarespace is the all in one solution for any...\n",
              "3    create a free website with wix com  choose a s...\n",
              "Name: Service, dtype: object"
            ]
          },
          "metadata": {
            "tags": []
          },
          "execution_count": 4
        }
      ]
    },
    {
      "cell_type": "code",
      "metadata": {
        "id": "Ca42OYbCPbS6",
        "colab_type": "code",
        "colab": {
          "base_uri": "https://localhost:8080/",
          "height": 191
        },
        "outputId": "253784a2-5852-49da-b338-c5f5467018d0"
      },
      "source": [
        "#More data clearning\n",
        "Appostophes = {\"'s\":\"is\",\"'re\":\"are\"}\n",
        "df['Service']\n",
        "for i in range(len(df)):\n",
        "  words =  df['Service'][i]\n",
        "  for word in words:\n",
        "    if word == \"'s\":\n",
        "      word= \"is\"\n",
        "    elif word == \"'re\":\n",
        "      word =  \"are\"\n",
        "  df['Service'][i] = words\n",
        "\n",
        "df['Service']"
      ],
      "execution_count": 5,
      "outputs": [
        {
          "output_type": "stream",
          "text": [
            "/usr/local/lib/python3.6/dist-packages/ipykernel_launcher.py:11: SettingWithCopyWarning: \n",
            "A value is trying to be set on a copy of a slice from a DataFrame\n",
            "\n",
            "See the caveats in the documentation: https://pandas.pydata.org/pandas-docs/stable/user_guide/indexing.html#returning-a-view-versus-a-copy\n",
            "  # This is added back by InteractiveShellApp.init_path()\n"
          ],
          "name": "stderr"
        },
        {
          "output_type": "execute_result",
          "data": {
            "text/plain": [
              "0    from project planning and source code manageme...\n",
              "1    reduce risk  optimize software delivery and ac...\n",
              "2    squarespace is the all in one solution for any...\n",
              "3    create a free website with wix com  choose a s...\n",
              "Name: Service, dtype: object"
            ]
          },
          "metadata": {
            "tags": []
          },
          "execution_count": 5
        }
      ]
    },
    {
      "cell_type": "code",
      "metadata": {
        "id": "l3JVWb8_Ph3_",
        "colab_type": "code",
        "colab": {
          "base_uri": "https://localhost:8080/",
          "height": 89
        },
        "outputId": "e349e795-ebe3-4b4c-937b-d7c16919cd3d"
      },
      "source": [
        "documents = list(df['Service'])\n",
        "print(documents)\n",
        "import nltk\n",
        "nltk.download('stopwords')\n",
        "from nltk.corpus import stopwords\n",
        "\n",
        "stop_words = set(stopwords.words('english'))"
      ],
      "execution_count": 6,
      "outputs": [
        {
          "output_type": "stream",
          "text": [
            "['from project planning and source code management to ci cd and monitoring  gitlab is a complete devops platform  delivered as a single application  only gitlab enables concurrent devops to make the software lifecycle 200  faster', 'reduce risk  optimize software delivery and accelerate innovation with cloudbees   the industry leading devops technology platform  build stuff that matters', 'squarespace is the all in one solution for anyone looking to create a beautiful website  domains  ecommerce  hosting  galleries  analytics  and 24 7 support all included', 'create a free website with wix com  choose a stunning template and customize anything with the wix website builder no coding skills needed  create yours today ']\n",
            "[nltk_data] Downloading package stopwords to /root/nltk_data...\n",
            "[nltk_data]   Unzipping corpora/stopwords.zip.\n"
          ],
          "name": "stdout"
        }
      ]
    },
    {
      "cell_type": "code",
      "metadata": {
        "id": "EC3Wq8cbR-ko",
        "colab_type": "code",
        "colab": {
          "base_uri": "https://localhost:8080/",
          "height": 191
        },
        "outputId": "211e70e5-da90-4f94-9272-1869a02758f7"
      },
      "source": [
        "#Extracting entities from text\n",
        "import nltk\n",
        "nltk.download('punkt')\n",
        "nltk.download('averaged_perceptron_tagger')\n",
        "nltk.download('maxent_ne_chunker')\n",
        "nltk.download('words')\n",
        "def extract_entities(name, text):\n",
        "    # Lopping over the sentences of the text\n",
        "    for sent in nltk.sent_tokenize(text):\n",
        "        # nltk.word_tokeize returns a list of words composing a sentence\n",
        "        # nltk.pos_tag returns the position tag of words in the sentence\n",
        "        # nltk.ne_chunk returns a label to each word based on this position tag when possible\n",
        "        for chunk in nltk.ne_chunk(nltk.pos_tag(nltk.word_tokenize(sent))):\n",
        "            try:\n",
        "                if chunk.label() == 'PERSON':\n",
        "                    for c in chunk.leaves():\n",
        "                        if str(c[0].lower()) not in name:\n",
        "                            name.append(str(c[0]).lower())\n",
        "            except AttributeError:\n",
        "                pass\n",
        "    return name\n",
        "## \n",
        "names = []\n",
        "for doc in documents:\n",
        "    names = extract_entities(names, doc)\n",
        "## Update the stop words list\n",
        "stop_words.update(names)"
      ],
      "execution_count": 7,
      "outputs": [
        {
          "output_type": "stream",
          "text": [
            "[nltk_data] Downloading package punkt to /root/nltk_data...\n",
            "[nltk_data]   Unzipping tokenizers/punkt.zip.\n",
            "[nltk_data] Downloading package averaged_perceptron_tagger to\n",
            "[nltk_data]     /root/nltk_data...\n",
            "[nltk_data]   Unzipping taggers/averaged_perceptron_tagger.zip.\n",
            "[nltk_data] Downloading package maxent_ne_chunker to\n",
            "[nltk_data]     /root/nltk_data...\n",
            "[nltk_data]   Unzipping chunkers/maxent_ne_chunker.zip.\n",
            "[nltk_data] Downloading package words to /root/nltk_data...\n",
            "[nltk_data]   Unzipping corpora/words.zip.\n"
          ],
          "name": "stdout"
        }
      ]
    },
    {
      "cell_type": "code",
      "metadata": {
        "id": "9qxS5jIzSTAG",
        "colab_type": "code",
        "colab": {}
      },
      "source": [
        "#Stemming the similar words\n",
        "\n",
        "from nltk.stem import SnowballStemmer\n",
        "stemmer = SnowballStemmer(\"english\") # Choose a language\n",
        "texts = [[stemmer.stem(word) for word in document.lower().split() if (word not in stop_words)]\n",
        "          for document in documents]"
      ],
      "execution_count": 0,
      "outputs": []
    },
    {
      "cell_type": "code",
      "metadata": {
        "id": "uasR43UEScT1",
        "colab_type": "code",
        "colab": {
          "base_uri": "https://localhost:8080/",
          "height": 54
        },
        "outputId": "130cfeb6-f5a9-4437-8ebc-e2fd0ad0a227"
      },
      "source": [
        "print(texts)"
      ],
      "execution_count": 9,
      "outputs": [
        {
          "output_type": "stream",
          "text": [
            "[['project', 'plan', 'sourc', 'code', 'manag', 'ci', 'cd', 'monitor', 'gitlab', 'complet', 'devop', 'platform', 'deliv', 'singl', 'applic', 'gitlab', 'enabl', 'concurr', 'devop', 'make', 'softwar', 'lifecycl', '200', 'faster'], ['reduc', 'risk', 'optim', 'softwar', 'deliveri', 'acceler', 'innov', 'cloudbe', 'industri', 'lead', 'devop', 'technolog', 'platform', 'build', 'stuff', 'matter'], ['squarespac', 'one', 'solut', 'anyon', 'look', 'creat', 'beauti', 'websit', 'domain', 'ecommerc', 'host', 'galleri', 'analyt', '24', '7', 'support', 'includ'], ['creat', 'free', 'websit', 'wix', 'com', 'choos', 'stun', 'templat', 'custom', 'anyth', 'wix', 'websit', 'builder', 'code', 'skill', 'need', 'creat', 'today']]\n"
          ],
          "name": "stdout"
        }
      ]
    },
    {
      "cell_type": "code",
      "metadata": {
        "id": "ZdIBF-OFSZBF",
        "colab_type": "code",
        "colab": {}
      },
      "source": [
        "# Now the main part comes using gensim it will only create matrices based on unique words and if related words then it will treat as same both the words\n",
        "from gensim import corpora, models, similarities\n",
        "dictionary = corpora.Dictionary(texts)"
      ],
      "execution_count": 0,
      "outputs": []
    },
    {
      "cell_type": "code",
      "metadata": {
        "id": "-lPP_yWOSrgL",
        "colab_type": "code",
        "colab": {
          "base_uri": "https://localhost:8080/",
          "height": 364
        },
        "outputId": "645ae6b3-a5c4-45a7-e344-e87b208b505c"
      },
      "source": [
        "#Showing  the created dictionary\n",
        "import itertools\n",
        "list(itertools.islice(dictionary.token2id.items(), 0, 20))"
      ],
      "execution_count": 11,
      "outputs": [
        {
          "output_type": "execute_result",
          "data": {
            "text/plain": [
              "[('200', 0),\n",
              " ('applic', 1),\n",
              " ('cd', 2),\n",
              " ('ci', 3),\n",
              " ('code', 4),\n",
              " ('complet', 5),\n",
              " ('concurr', 6),\n",
              " ('deliv', 7),\n",
              " ('devop', 8),\n",
              " ('enabl', 9),\n",
              " ('faster', 10),\n",
              " ('gitlab', 11),\n",
              " ('lifecycl', 12),\n",
              " ('make', 13),\n",
              " ('manag', 14),\n",
              " ('monitor', 15),\n",
              " ('plan', 16),\n",
              " ('platform', 17),\n",
              " ('project', 18),\n",
              " ('singl', 19)]"
            ]
          },
          "metadata": {
            "tags": []
          },
          "execution_count": 11
        }
      ]
    },
    {
      "cell_type": "code",
      "metadata": {
        "id": "9c6Zvrw6S5SQ",
        "colab_type": "code",
        "colab": {
          "base_uri": "https://localhost:8080/",
          "height": 1000
        },
        "outputId": "f3b216ff-b144-462a-cf2d-8fdbca9b971e"
      },
      "source": [
        "#creating corpus from the words in the dictionary\n",
        "corpus = [dictionary.doc2bow(text) for text in texts]\n",
        "corpus\n",
        "\n",
        "#Here the first element in dict is the position of the  tag in the dictionary"
      ],
      "execution_count": 12,
      "outputs": [
        {
          "output_type": "execute_result",
          "data": {
            "text/plain": [
              "[[(0, 1),\n",
              "  (1, 1),\n",
              "  (2, 1),\n",
              "  (3, 1),\n",
              "  (4, 1),\n",
              "  (5, 1),\n",
              "  (6, 1),\n",
              "  (7, 1),\n",
              "  (8, 2),\n",
              "  (9, 1),\n",
              "  (10, 1),\n",
              "  (11, 2),\n",
              "  (12, 1),\n",
              "  (13, 1),\n",
              "  (14, 1),\n",
              "  (15, 1),\n",
              "  (16, 1),\n",
              "  (17, 1),\n",
              "  (18, 1),\n",
              "  (19, 1),\n",
              "  (20, 1),\n",
              "  (21, 1)],\n",
              " [(8, 1),\n",
              "  (17, 1),\n",
              "  (20, 1),\n",
              "  (22, 1),\n",
              "  (23, 1),\n",
              "  (24, 1),\n",
              "  (25, 1),\n",
              "  (26, 1),\n",
              "  (27, 1),\n",
              "  (28, 1),\n",
              "  (29, 1),\n",
              "  (30, 1),\n",
              "  (31, 1),\n",
              "  (32, 1),\n",
              "  (33, 1),\n",
              "  (34, 1)],\n",
              " [(35, 1),\n",
              "  (36, 1),\n",
              "  (37, 1),\n",
              "  (38, 1),\n",
              "  (39, 1),\n",
              "  (40, 1),\n",
              "  (41, 1),\n",
              "  (42, 1),\n",
              "  (43, 1),\n",
              "  (44, 1),\n",
              "  (45, 1),\n",
              "  (46, 1),\n",
              "  (47, 1),\n",
              "  (48, 1),\n",
              "  (49, 1),\n",
              "  (50, 1),\n",
              "  (51, 1)],\n",
              " [(4, 1),\n",
              "  (40, 2),\n",
              "  (51, 2),\n",
              "  (52, 1),\n",
              "  (53, 1),\n",
              "  (54, 1),\n",
              "  (55, 1),\n",
              "  (56, 1),\n",
              "  (57, 1),\n",
              "  (58, 1),\n",
              "  (59, 1),\n",
              "  (60, 1),\n",
              "  (61, 1),\n",
              "  (62, 1),\n",
              "  (63, 2)]]"
            ]
          },
          "metadata": {
            "tags": []
          },
          "execution_count": 12
        }
      ]
    },
    {
      "cell_type": "code",
      "metadata": {
        "id": "UL9OxSRMTQGR",
        "colab_type": "code",
        "colab": {
          "base_uri": "https://localhost:8080/",
          "height": 34
        },
        "outputId": "e40d3175-26c3-4cda-98d2-7f4ee6f9d5b8"
      },
      "source": [
        "print(corpus[3][:20])"
      ],
      "execution_count": 13,
      "outputs": [
        {
          "output_type": "stream",
          "text": [
            "[(4, 1), (40, 2), (51, 2), (52, 1), (53, 1), (54, 1), (55, 1), (56, 1), (57, 1), (58, 1), (59, 1), (60, 1), (61, 1), (62, 1), (63, 2)]\n"
          ],
          "name": "stdout"
        }
      ]
    },
    {
      "cell_type": "code",
      "metadata": {
        "id": "Wap_D8SFTZtN",
        "colab_type": "code",
        "colab": {
          "base_uri": "https://localhost:8080/",
          "height": 34
        },
        "outputId": "4d0fa68d-8056-4e50-fdea-5a5f85a1b181"
      },
      "source": [
        "dictionary[48]"
      ],
      "execution_count": 14,
      "outputs": [
        {
          "output_type": "execute_result",
          "data": {
            "text/plain": [
              "'solut'"
            ]
          },
          "metadata": {
            "tags": []
          },
          "execution_count": 14
        }
      ]
    },
    {
      "cell_type": "code",
      "metadata": {
        "id": "JSG4grcyUSjN",
        "colab_type": "code",
        "colab": {
          "base_uri": "https://localhost:8080/",
          "height": 34
        },
        "outputId": "8b41878c-31ec-4a0d-e849-b4826b162bee"
      },
      "source": [
        "#creating the tfidf for the created corpus \n",
        "tfidf = models.TfidfModel(corpus)\n",
        "corpus_tfidf = tfidf[corpus]\n",
        "corpus_tfidf"
      ],
      "execution_count": 15,
      "outputs": [
        {
          "output_type": "execute_result",
          "data": {
            "text/plain": [
              "<gensim.interfaces.TransformedCorpus at 0x7ff5ce27e828>"
            ]
          },
          "metadata": {
            "tags": []
          },
          "execution_count": 15
        }
      ]
    },
    {
      "cell_type": "code",
      "metadata": {
        "id": "frKvsL08Ugbj",
        "colab_type": "code",
        "colab": {
          "base_uri": "https://localhost:8080/",
          "height": 54
        },
        "outputId": "72109c7c-0613-441d-bb7c-53174c93989e"
      },
      "source": [
        "print(corpus_tfidf[3][:20])"
      ],
      "execution_count": 16,
      "outputs": [
        {
          "output_type": "stream",
          "text": [
            "[(4, 0.1203858530857692), (40, 0.2407717061715384), (51, 0.2407717061715384), (52, 0.2407717061715384), (53, 0.2407717061715384), (54, 0.2407717061715384), (55, 0.2407717061715384), (56, 0.2407717061715384), (57, 0.2407717061715384), (58, 0.2407717061715384), (59, 0.2407717061715384), (60, 0.2407717061715384), (61, 0.2407717061715384), (62, 0.2407717061715384), (63, 0.4815434123430768)]\n"
          ],
          "name": "stdout"
        }
      ]
    },
    {
      "cell_type": "code",
      "metadata": {
        "id": "d7SbAXyZWfGK",
        "colab_type": "code",
        "colab": {}
      },
      "source": [
        "#Converting the gensim matrix into sparse matrix to run the cosine similarities on them\n",
        "\n",
        "import gensim\n",
        "import numpy as np\n",
        "\n",
        "corpus_tfidf_csr = gensim.matutils.corpus2csc(corpus_tfidf)\n",
        "corpus_tfidf_numpy = corpus_tfidf_csr.T.toarray()"
      ],
      "execution_count": 0,
      "outputs": []
    },
    {
      "cell_type": "code",
      "metadata": {
        "id": "yBoPcaGBWxwe",
        "colab_type": "code",
        "colab": {}
      },
      "source": [
        "#Running the cosine similarities\n",
        "\n",
        "from sklearn.feature_extraction.text import TfidfVectorizer\n",
        "from sklearn.metrics.pairwise import linear_kernel \n",
        "cosine_similarities = linear_kernel(corpus_tfidf_numpy, corpus_tfidf_numpy) \n",
        "results = {}\n",
        "idx = 0\n",
        "row = 0\n",
        "count = 0\n",
        "for idx, row in df.iterrows():\n",
        "   similar_indices = cosine_similarities[idx].argsort()[:-100:-1] \n",
        "   similar_items = [(cosine_similarities[idx][i], df['id'][i]) for i in similar_indices] \n",
        "   results[row['id']] = similar_items[1:]"
      ],
      "execution_count": 0,
      "outputs": []
    },
    {
      "cell_type": "code",
      "metadata": {
        "id": "ZxWm03wHXMkl",
        "colab_type": "code",
        "colab": {}
      },
      "source": [
        "#Checking the results\n",
        "\n",
        "def item(id):  \n",
        "  return df.loc[df['id'] == id]['website'].tolist()[0].split(' - ')[0] \n",
        "\n",
        "def recommend(item_id, num):\n",
        "    print(\"Recommending \" + str(num) + \" products similar to \" + item(item_id) + \"...\")   \n",
        "    print(\"-------\")    \n",
        "    recs = results[item_id][:num]   \n",
        "    for rec in recs: \n",
        "       print(\"Recommended: \" + item(rec[1]) + \" (score:\" +      str(rec[0]) + \")\")"
      ],
      "execution_count": 0,
      "outputs": []
    },
    {
      "cell_type": "code",
      "metadata": {
        "id": "1l_FSR6wXRZh",
        "colab_type": "code",
        "colab": {
          "base_uri": "https://localhost:8080/",
          "height": 86
        },
        "outputId": "c4dce462-36e7-4c3b-e1da-d64df9cfc6bb"
      },
      "source": [
        "#Recommendation results but the performance is low \n",
        "\n",
        "#Lets run the created model on bigger dataset\n",
        "recommend(item_id=1, num=2)"
      ],
      "execution_count": 20,
      "outputs": [
        {
          "output_type": "stream",
          "text": [
            "Recommending 2 products similar to Cloudbees.com...\n",
            "-------\n",
            "Recommended: Gitlab.com (score:0.05654027941921757)\n",
            "Recommended: Wix.com (score:0.0)\n"
          ],
          "name": "stdout"
        }
      ]
    },
    {
      "cell_type": "code",
      "metadata": {
        "id": "JdUQPjfCbFv6",
        "colab_type": "code",
        "colab": {
          "base_uri": "https://localhost:8080/",
          "height": 677
        },
        "outputId": "74583ee0-477c-4b8a-edd1-2b119732cd50"
      },
      "source": [
        "#Now running the model on g2 data\n",
        "\n",
        "import numpy as np\n",
        "import pandas as pd\n",
        "df = pd.DataFrame()\n",
        "\n",
        "id =  [0,1,2,3,4,5,6,7,8,9,10,11,12,13,14,15,16,17,18,19]\n",
        "website = ['Cloudflare','Amazon CloudFront','Fastly','CDN77','KeyCDN','Imperva Incapsula','Linodes Standard','Google Cloud CDN','Bootstrapcdn','StackPath CDN','Rackspace CDN','Microsoft Azure CDN','Akamai','Sucuri','Kollective','CDNify','Cachefly','Dexecure','IBM Enterprise Video Streaming','CDNetworks']\n",
        "\n",
        "Service = ['What We Do At Cloudflare, we have our eyes set on an ambitious goal -- to help build a better Internet. We believe that with our talented team, smart technology and engaged users we can solve some of the biggest problems on the Internet','Amazon CloudFront is a web service for content delivery. It integrates with other Amazon Web Services to give developers and businesses an easy way to distribute content to end users with low latency, high data transfer speeds, and no commitments','Fastly helps the world’s most popular digital businesses keep pace with their customer expectations by delivering fast, secure, and scalable online experiences','CDN77 is a Content Delivery Network with 35+ points of presence around the world (incl. 3 in South America). CDN77 has its own Video Processing and Delivery platform called Streamflow','KeyCDN is a simple, fast & reliable Content Delivery Network with 25+ POPs strategicially located around the globe. KeyCDN offers the lowest price at $0.04/GB (every region), pay-as-you-go and many advanced features such as HTTP/2 Support, Free SSL, Instant Purging, a RESTful API, Real-time Analytics, Two-Factor Auth, and 24+ CMS integrations (WordPress, Drupal, Joomla, Magento, etc',\"Imperva Incapsula delivers an enterprise-grade Web Application Firewall to safeguard your site from the latest threats, an intelligent and instantly effective 360-degree anti-DDoS solutions (layers 3-4 and 7), a global CDN to speed up your website's load speed and minimize bandwidth usage and an array of performance monitoring and analytic services to provide insights about your website's security and performance\",\"Linode accelerates innovation by making cloud computing simple, accessible, and affordable to all. Founded in 2003, Linode helped pioneer the cloud computing industry and is today the largest independent open cloud provider in the world. Headquartered in Philadelphia's Old City, the company empowers more than a million developers, startups, and businesses across its global network of data centers\",'Content Delivery Network for Cloud Platform Google Cloud CDN leverages Google\\' s globally distributed edge points of presence to accelerate content delivery for websites and applications served out of Google Compute Engine and Google Cloud Storage. Cloud CDN lowers network latency, offloads origins, and reduces serving costs. Once you\\'ve set up HTTP(S) Load Balancing, simply enable Cloud CDN with a single checkbox','Bootstrapcdn is the recommended CDN for Bootstrap, Font Awesome and Bootswatch','Innovative Content Delivery Network providing cutting-edge web services and info. like EdgeSSL and DualCDN Strategies','Accelerate your websites, web applications, and media delivery','A fast and modern global delivery network for high-bandwidth content','The Akamai Intelligent Platform is a cloud platform for delivering secure, high-performing user experiences to any device, anywhere. It reaches globally and delivers locally','Sucuri is a managed security service provider for websites. Our cloud-based tools provide complete website security solution, including performance optimization via a CDN, mitigation of external attacks like vulnerability exploits and DDoS attacks, and professional response in the event of security incident','At Kollective, we make corporate networks smarter so your people can work better. The Kollective platform scales existing IT infrastructure to accelerate content delivery to the edge of the enterprise while minimizing network congestion','CDNify is a flexible and easy-to-use content delivery network built for developers, startups, and digital agencies to accelerate your website, speed up load times and provide a faster, more reliable experience for your customers','Launched in 2002, CacheFly developed the world’s first TCP-anycast based Content Delivery Network—the only network built for throughput. From the first byte to the last byte, CacheFly delivers your files faster','We are passionate web performance experts that want to make the internet faster. Dexecure is the only automatic web performance solution that accelerates websites, for better business results. Dexecure automatically performs Front end optimizations and partners with Content Delivery Networks (CDN) to deliver the fastest loading site','IBM Watson Media (formerly IBM Cloud Video) provides an enterprise video solution, powered by Watson AI, for creating, storing, managing, broadcasting and measuring the impact of live and recorded video','CDNetworks enables Global Cloud Acceleration with 160 global points of presence including China, Russia and other emerging markets']\n",
        "\n",
        "df['id'] = id\n",
        "df['website'] = website\n",
        "df['Service'] = Service\n",
        "\n",
        "df"
      ],
      "execution_count": 37,
      "outputs": [
        {
          "output_type": "execute_result",
          "data": {
            "text/html": [
              "<div>\n",
              "<style scoped>\n",
              "    .dataframe tbody tr th:only-of-type {\n",
              "        vertical-align: middle;\n",
              "    }\n",
              "\n",
              "    .dataframe tbody tr th {\n",
              "        vertical-align: top;\n",
              "    }\n",
              "\n",
              "    .dataframe thead th {\n",
              "        text-align: right;\n",
              "    }\n",
              "</style>\n",
              "<table border=\"1\" class=\"dataframe\">\n",
              "  <thead>\n",
              "    <tr style=\"text-align: right;\">\n",
              "      <th></th>\n",
              "      <th>id</th>\n",
              "      <th>website</th>\n",
              "      <th>Service</th>\n",
              "    </tr>\n",
              "  </thead>\n",
              "  <tbody>\n",
              "    <tr>\n",
              "      <th>0</th>\n",
              "      <td>0</td>\n",
              "      <td>Cloudflare</td>\n",
              "      <td>What We Do At Cloudflare, we have our eyes set...</td>\n",
              "    </tr>\n",
              "    <tr>\n",
              "      <th>1</th>\n",
              "      <td>1</td>\n",
              "      <td>Amazon CloudFront</td>\n",
              "      <td>Amazon CloudFront is a web service for content...</td>\n",
              "    </tr>\n",
              "    <tr>\n",
              "      <th>2</th>\n",
              "      <td>2</td>\n",
              "      <td>Fastly</td>\n",
              "      <td>Fastly helps the world’s most popular digital ...</td>\n",
              "    </tr>\n",
              "    <tr>\n",
              "      <th>3</th>\n",
              "      <td>3</td>\n",
              "      <td>CDN77</td>\n",
              "      <td>CDN77 is a Content Delivery Network with 35+ p...</td>\n",
              "    </tr>\n",
              "    <tr>\n",
              "      <th>4</th>\n",
              "      <td>4</td>\n",
              "      <td>KeyCDN</td>\n",
              "      <td>KeyCDN is a simple, fast &amp; reliable Content De...</td>\n",
              "    </tr>\n",
              "    <tr>\n",
              "      <th>5</th>\n",
              "      <td>5</td>\n",
              "      <td>Imperva Incapsula</td>\n",
              "      <td>Imperva Incapsula delivers an enterprise-grade...</td>\n",
              "    </tr>\n",
              "    <tr>\n",
              "      <th>6</th>\n",
              "      <td>6</td>\n",
              "      <td>Linodes Standard</td>\n",
              "      <td>Linode accelerates innovation by making cloud ...</td>\n",
              "    </tr>\n",
              "    <tr>\n",
              "      <th>7</th>\n",
              "      <td>7</td>\n",
              "      <td>Google Cloud CDN</td>\n",
              "      <td>Content Delivery Network for Cloud Platform Go...</td>\n",
              "    </tr>\n",
              "    <tr>\n",
              "      <th>8</th>\n",
              "      <td>8</td>\n",
              "      <td>Bootstrapcdn</td>\n",
              "      <td>Bootstrapcdn is the recommended CDN for Bootst...</td>\n",
              "    </tr>\n",
              "    <tr>\n",
              "      <th>9</th>\n",
              "      <td>9</td>\n",
              "      <td>StackPath CDN</td>\n",
              "      <td>Innovative Content Delivery Network providing ...</td>\n",
              "    </tr>\n",
              "    <tr>\n",
              "      <th>10</th>\n",
              "      <td>10</td>\n",
              "      <td>Rackspace CDN</td>\n",
              "      <td>Accelerate your websites, web applications, an...</td>\n",
              "    </tr>\n",
              "    <tr>\n",
              "      <th>11</th>\n",
              "      <td>11</td>\n",
              "      <td>Microsoft Azure CDN</td>\n",
              "      <td>A fast and modern global delivery network for ...</td>\n",
              "    </tr>\n",
              "    <tr>\n",
              "      <th>12</th>\n",
              "      <td>12</td>\n",
              "      <td>Akamai</td>\n",
              "      <td>The Akamai Intelligent Platform is a cloud pla...</td>\n",
              "    </tr>\n",
              "    <tr>\n",
              "      <th>13</th>\n",
              "      <td>13</td>\n",
              "      <td>Sucuri</td>\n",
              "      <td>Sucuri is a managed security service provider ...</td>\n",
              "    </tr>\n",
              "    <tr>\n",
              "      <th>14</th>\n",
              "      <td>14</td>\n",
              "      <td>Kollective</td>\n",
              "      <td>At Kollective, we make corporate networks smar...</td>\n",
              "    </tr>\n",
              "    <tr>\n",
              "      <th>15</th>\n",
              "      <td>15</td>\n",
              "      <td>CDNify</td>\n",
              "      <td>CDNify is a flexible and easy-to-use content d...</td>\n",
              "    </tr>\n",
              "    <tr>\n",
              "      <th>16</th>\n",
              "      <td>16</td>\n",
              "      <td>Cachefly</td>\n",
              "      <td>Launched in 2002, CacheFly developed the world...</td>\n",
              "    </tr>\n",
              "    <tr>\n",
              "      <th>17</th>\n",
              "      <td>17</td>\n",
              "      <td>Dexecure</td>\n",
              "      <td>We are passionate web performance experts that...</td>\n",
              "    </tr>\n",
              "    <tr>\n",
              "      <th>18</th>\n",
              "      <td>18</td>\n",
              "      <td>IBM Enterprise Video Streaming</td>\n",
              "      <td>IBM Watson Media (formerly IBM Cloud Video) pr...</td>\n",
              "    </tr>\n",
              "    <tr>\n",
              "      <th>19</th>\n",
              "      <td>19</td>\n",
              "      <td>CDNetworks</td>\n",
              "      <td>CDNetworks enables Global Cloud Acceleration w...</td>\n",
              "    </tr>\n",
              "  </tbody>\n",
              "</table>\n",
              "</div>"
            ],
            "text/plain": [
              "    id  ...                                            Service\n",
              "0    0  ...  What We Do At Cloudflare, we have our eyes set...\n",
              "1    1  ...  Amazon CloudFront is a web service for content...\n",
              "2    2  ...  Fastly helps the world’s most popular digital ...\n",
              "3    3  ...  CDN77 is a Content Delivery Network with 35+ p...\n",
              "4    4  ...  KeyCDN is a simple, fast & reliable Content De...\n",
              "5    5  ...  Imperva Incapsula delivers an enterprise-grade...\n",
              "6    6  ...  Linode accelerates innovation by making cloud ...\n",
              "7    7  ...  Content Delivery Network for Cloud Platform Go...\n",
              "8    8  ...  Bootstrapcdn is the recommended CDN for Bootst...\n",
              "9    9  ...  Innovative Content Delivery Network providing ...\n",
              "10  10  ...  Accelerate your websites, web applications, an...\n",
              "11  11  ...  A fast and modern global delivery network for ...\n",
              "12  12  ...  The Akamai Intelligent Platform is a cloud pla...\n",
              "13  13  ...  Sucuri is a managed security service provider ...\n",
              "14  14  ...  At Kollective, we make corporate networks smar...\n",
              "15  15  ...  CDNify is a flexible and easy-to-use content d...\n",
              "16  16  ...  Launched in 2002, CacheFly developed the world...\n",
              "17  17  ...  We are passionate web performance experts that...\n",
              "18  18  ...  IBM Watson Media (formerly IBM Cloud Video) pr...\n",
              "19  19  ...  CDNetworks enables Global Cloud Acceleration w...\n",
              "\n",
              "[20 rows x 3 columns]"
            ]
          },
          "metadata": {
            "tags": []
          },
          "execution_count": 37
        }
      ]
    },
    {
      "cell_type": "code",
      "metadata": {
        "id": "LuUPfIq9bRhY",
        "colab_type": "code",
        "colab": {
          "base_uri": "https://localhost:8080/",
          "height": 731
        },
        "outputId": "7e560e1a-cdef-45a0-c0d9-bd5832f44bd2"
      },
      "source": [
        "#Data cleaning steps\n",
        "from html.parser import HTMLParser\n",
        "html_parser = HTMLParser()\n",
        "df['Service'] = df['Service'].apply(lambda x: html_parser.unescape(x))\n",
        "df\n"
      ],
      "execution_count": 38,
      "outputs": [
        {
          "output_type": "stream",
          "text": [
            "/usr/local/lib/python3.6/dist-packages/ipykernel_launcher.py:3: DeprecationWarning: The unescape method is deprecated and will be removed in 3.5, use html.unescape() instead.\n",
            "  This is separate from the ipykernel package so we can avoid doing imports until\n"
          ],
          "name": "stderr"
        },
        {
          "output_type": "execute_result",
          "data": {
            "text/html": [
              "<div>\n",
              "<style scoped>\n",
              "    .dataframe tbody tr th:only-of-type {\n",
              "        vertical-align: middle;\n",
              "    }\n",
              "\n",
              "    .dataframe tbody tr th {\n",
              "        vertical-align: top;\n",
              "    }\n",
              "\n",
              "    .dataframe thead th {\n",
              "        text-align: right;\n",
              "    }\n",
              "</style>\n",
              "<table border=\"1\" class=\"dataframe\">\n",
              "  <thead>\n",
              "    <tr style=\"text-align: right;\">\n",
              "      <th></th>\n",
              "      <th>id</th>\n",
              "      <th>website</th>\n",
              "      <th>Service</th>\n",
              "    </tr>\n",
              "  </thead>\n",
              "  <tbody>\n",
              "    <tr>\n",
              "      <th>0</th>\n",
              "      <td>0</td>\n",
              "      <td>Cloudflare</td>\n",
              "      <td>What We Do At Cloudflare, we have our eyes set...</td>\n",
              "    </tr>\n",
              "    <tr>\n",
              "      <th>1</th>\n",
              "      <td>1</td>\n",
              "      <td>Amazon CloudFront</td>\n",
              "      <td>Amazon CloudFront is a web service for content...</td>\n",
              "    </tr>\n",
              "    <tr>\n",
              "      <th>2</th>\n",
              "      <td>2</td>\n",
              "      <td>Fastly</td>\n",
              "      <td>Fastly helps the world’s most popular digital ...</td>\n",
              "    </tr>\n",
              "    <tr>\n",
              "      <th>3</th>\n",
              "      <td>3</td>\n",
              "      <td>CDN77</td>\n",
              "      <td>CDN77 is a Content Delivery Network with 35+ p...</td>\n",
              "    </tr>\n",
              "    <tr>\n",
              "      <th>4</th>\n",
              "      <td>4</td>\n",
              "      <td>KeyCDN</td>\n",
              "      <td>KeyCDN is a simple, fast &amp; reliable Content De...</td>\n",
              "    </tr>\n",
              "    <tr>\n",
              "      <th>5</th>\n",
              "      <td>5</td>\n",
              "      <td>Imperva Incapsula</td>\n",
              "      <td>Imperva Incapsula delivers an enterprise-grade...</td>\n",
              "    </tr>\n",
              "    <tr>\n",
              "      <th>6</th>\n",
              "      <td>6</td>\n",
              "      <td>Linodes Standard</td>\n",
              "      <td>Linode accelerates innovation by making cloud ...</td>\n",
              "    </tr>\n",
              "    <tr>\n",
              "      <th>7</th>\n",
              "      <td>7</td>\n",
              "      <td>Google Cloud CDN</td>\n",
              "      <td>Content Delivery Network for Cloud Platform Go...</td>\n",
              "    </tr>\n",
              "    <tr>\n",
              "      <th>8</th>\n",
              "      <td>8</td>\n",
              "      <td>Bootstrapcdn</td>\n",
              "      <td>Bootstrapcdn is the recommended CDN for Bootst...</td>\n",
              "    </tr>\n",
              "    <tr>\n",
              "      <th>9</th>\n",
              "      <td>9</td>\n",
              "      <td>StackPath CDN</td>\n",
              "      <td>Innovative Content Delivery Network providing ...</td>\n",
              "    </tr>\n",
              "    <tr>\n",
              "      <th>10</th>\n",
              "      <td>10</td>\n",
              "      <td>Rackspace CDN</td>\n",
              "      <td>Accelerate your websites, web applications, an...</td>\n",
              "    </tr>\n",
              "    <tr>\n",
              "      <th>11</th>\n",
              "      <td>11</td>\n",
              "      <td>Microsoft Azure CDN</td>\n",
              "      <td>A fast and modern global delivery network for ...</td>\n",
              "    </tr>\n",
              "    <tr>\n",
              "      <th>12</th>\n",
              "      <td>12</td>\n",
              "      <td>Akamai</td>\n",
              "      <td>The Akamai Intelligent Platform is a cloud pla...</td>\n",
              "    </tr>\n",
              "    <tr>\n",
              "      <th>13</th>\n",
              "      <td>13</td>\n",
              "      <td>Sucuri</td>\n",
              "      <td>Sucuri is a managed security service provider ...</td>\n",
              "    </tr>\n",
              "    <tr>\n",
              "      <th>14</th>\n",
              "      <td>14</td>\n",
              "      <td>Kollective</td>\n",
              "      <td>At Kollective, we make corporate networks smar...</td>\n",
              "    </tr>\n",
              "    <tr>\n",
              "      <th>15</th>\n",
              "      <td>15</td>\n",
              "      <td>CDNify</td>\n",
              "      <td>CDNify is a flexible and easy-to-use content d...</td>\n",
              "    </tr>\n",
              "    <tr>\n",
              "      <th>16</th>\n",
              "      <td>16</td>\n",
              "      <td>Cachefly</td>\n",
              "      <td>Launched in 2002, CacheFly developed the world...</td>\n",
              "    </tr>\n",
              "    <tr>\n",
              "      <th>17</th>\n",
              "      <td>17</td>\n",
              "      <td>Dexecure</td>\n",
              "      <td>We are passionate web performance experts that...</td>\n",
              "    </tr>\n",
              "    <tr>\n",
              "      <th>18</th>\n",
              "      <td>18</td>\n",
              "      <td>IBM Enterprise Video Streaming</td>\n",
              "      <td>IBM Watson Media (formerly IBM Cloud Video) pr...</td>\n",
              "    </tr>\n",
              "    <tr>\n",
              "      <th>19</th>\n",
              "      <td>19</td>\n",
              "      <td>CDNetworks</td>\n",
              "      <td>CDNetworks enables Global Cloud Acceleration w...</td>\n",
              "    </tr>\n",
              "  </tbody>\n",
              "</table>\n",
              "</div>"
            ],
            "text/plain": [
              "    id  ...                                            Service\n",
              "0    0  ...  What We Do At Cloudflare, we have our eyes set...\n",
              "1    1  ...  Amazon CloudFront is a web service for content...\n",
              "2    2  ...  Fastly helps the world’s most popular digital ...\n",
              "3    3  ...  CDN77 is a Content Delivery Network with 35+ p...\n",
              "4    4  ...  KeyCDN is a simple, fast & reliable Content De...\n",
              "5    5  ...  Imperva Incapsula delivers an enterprise-grade...\n",
              "6    6  ...  Linode accelerates innovation by making cloud ...\n",
              "7    7  ...  Content Delivery Network for Cloud Platform Go...\n",
              "8    8  ...  Bootstrapcdn is the recommended CDN for Bootst...\n",
              "9    9  ...  Innovative Content Delivery Network providing ...\n",
              "10  10  ...  Accelerate your websites, web applications, an...\n",
              "11  11  ...  A fast and modern global delivery network for ...\n",
              "12  12  ...  The Akamai Intelligent Platform is a cloud pla...\n",
              "13  13  ...  Sucuri is a managed security service provider ...\n",
              "14  14  ...  At Kollective, we make corporate networks smar...\n",
              "15  15  ...  CDNify is a flexible and easy-to-use content d...\n",
              "16  16  ...  Launched in 2002, CacheFly developed the world...\n",
              "17  17  ...  We are passionate web performance experts that...\n",
              "18  18  ...  IBM Watson Media (formerly IBM Cloud Video) pr...\n",
              "19  19  ...  CDNetworks enables Global Cloud Acceleration w...\n",
              "\n",
              "[20 rows x 3 columns]"
            ]
          },
          "metadata": {
            "tags": []
          },
          "execution_count": 38
        }
      ]
    },
    {
      "cell_type": "code",
      "metadata": {
        "id": "7_xNH9GZbZ9G",
        "colab_type": "code",
        "colab": {
          "base_uri": "https://localhost:8080/",
          "height": 677
        },
        "outputId": "181d3b7b-d215-4777-fb34-97c5c1cae94a"
      },
      "source": [
        "import re\n",
        "df['Service']= df['Service'].apply(lambda x: x.lower())\n",
        "\n",
        "#Extracting only words from Service\n",
        "df['Service'] = df['Service'].apply(lambda x: re.sub(r'#[\\W]*',' ',x))\n",
        "\n",
        "df"
      ],
      "execution_count": 39,
      "outputs": [
        {
          "output_type": "execute_result",
          "data": {
            "text/html": [
              "<div>\n",
              "<style scoped>\n",
              "    .dataframe tbody tr th:only-of-type {\n",
              "        vertical-align: middle;\n",
              "    }\n",
              "\n",
              "    .dataframe tbody tr th {\n",
              "        vertical-align: top;\n",
              "    }\n",
              "\n",
              "    .dataframe thead th {\n",
              "        text-align: right;\n",
              "    }\n",
              "</style>\n",
              "<table border=\"1\" class=\"dataframe\">\n",
              "  <thead>\n",
              "    <tr style=\"text-align: right;\">\n",
              "      <th></th>\n",
              "      <th>id</th>\n",
              "      <th>website</th>\n",
              "      <th>Service</th>\n",
              "    </tr>\n",
              "  </thead>\n",
              "  <tbody>\n",
              "    <tr>\n",
              "      <th>0</th>\n",
              "      <td>0</td>\n",
              "      <td>Cloudflare</td>\n",
              "      <td>what we do at cloudflare, we have our eyes set...</td>\n",
              "    </tr>\n",
              "    <tr>\n",
              "      <th>1</th>\n",
              "      <td>1</td>\n",
              "      <td>Amazon CloudFront</td>\n",
              "      <td>amazon cloudfront is a web service for content...</td>\n",
              "    </tr>\n",
              "    <tr>\n",
              "      <th>2</th>\n",
              "      <td>2</td>\n",
              "      <td>Fastly</td>\n",
              "      <td>fastly helps the world’s most popular digital ...</td>\n",
              "    </tr>\n",
              "    <tr>\n",
              "      <th>3</th>\n",
              "      <td>3</td>\n",
              "      <td>CDN77</td>\n",
              "      <td>cdn77 is a content delivery network with 35+ p...</td>\n",
              "    </tr>\n",
              "    <tr>\n",
              "      <th>4</th>\n",
              "      <td>4</td>\n",
              "      <td>KeyCDN</td>\n",
              "      <td>keycdn is a simple, fast &amp; reliable content de...</td>\n",
              "    </tr>\n",
              "    <tr>\n",
              "      <th>5</th>\n",
              "      <td>5</td>\n",
              "      <td>Imperva Incapsula</td>\n",
              "      <td>imperva incapsula delivers an enterprise-grade...</td>\n",
              "    </tr>\n",
              "    <tr>\n",
              "      <th>6</th>\n",
              "      <td>6</td>\n",
              "      <td>Linodes Standard</td>\n",
              "      <td>linode accelerates innovation by making cloud ...</td>\n",
              "    </tr>\n",
              "    <tr>\n",
              "      <th>7</th>\n",
              "      <td>7</td>\n",
              "      <td>Google Cloud CDN</td>\n",
              "      <td>content delivery network for cloud platform go...</td>\n",
              "    </tr>\n",
              "    <tr>\n",
              "      <th>8</th>\n",
              "      <td>8</td>\n",
              "      <td>Bootstrapcdn</td>\n",
              "      <td>bootstrapcdn is the recommended cdn for bootst...</td>\n",
              "    </tr>\n",
              "    <tr>\n",
              "      <th>9</th>\n",
              "      <td>9</td>\n",
              "      <td>StackPath CDN</td>\n",
              "      <td>innovative content delivery network providing ...</td>\n",
              "    </tr>\n",
              "    <tr>\n",
              "      <th>10</th>\n",
              "      <td>10</td>\n",
              "      <td>Rackspace CDN</td>\n",
              "      <td>accelerate your websites, web applications, an...</td>\n",
              "    </tr>\n",
              "    <tr>\n",
              "      <th>11</th>\n",
              "      <td>11</td>\n",
              "      <td>Microsoft Azure CDN</td>\n",
              "      <td>a fast and modern global delivery network for ...</td>\n",
              "    </tr>\n",
              "    <tr>\n",
              "      <th>12</th>\n",
              "      <td>12</td>\n",
              "      <td>Akamai</td>\n",
              "      <td>the akamai intelligent platform is a cloud pla...</td>\n",
              "    </tr>\n",
              "    <tr>\n",
              "      <th>13</th>\n",
              "      <td>13</td>\n",
              "      <td>Sucuri</td>\n",
              "      <td>sucuri is a managed security service provider ...</td>\n",
              "    </tr>\n",
              "    <tr>\n",
              "      <th>14</th>\n",
              "      <td>14</td>\n",
              "      <td>Kollective</td>\n",
              "      <td>at kollective, we make corporate networks smar...</td>\n",
              "    </tr>\n",
              "    <tr>\n",
              "      <th>15</th>\n",
              "      <td>15</td>\n",
              "      <td>CDNify</td>\n",
              "      <td>cdnify is a flexible and easy-to-use content d...</td>\n",
              "    </tr>\n",
              "    <tr>\n",
              "      <th>16</th>\n",
              "      <td>16</td>\n",
              "      <td>Cachefly</td>\n",
              "      <td>launched in 2002, cachefly developed the world...</td>\n",
              "    </tr>\n",
              "    <tr>\n",
              "      <th>17</th>\n",
              "      <td>17</td>\n",
              "      <td>Dexecure</td>\n",
              "      <td>we are passionate web performance experts that...</td>\n",
              "    </tr>\n",
              "    <tr>\n",
              "      <th>18</th>\n",
              "      <td>18</td>\n",
              "      <td>IBM Enterprise Video Streaming</td>\n",
              "      <td>ibm watson media (formerly ibm cloud video) pr...</td>\n",
              "    </tr>\n",
              "    <tr>\n",
              "      <th>19</th>\n",
              "      <td>19</td>\n",
              "      <td>CDNetworks</td>\n",
              "      <td>cdnetworks enables global cloud acceleration w...</td>\n",
              "    </tr>\n",
              "  </tbody>\n",
              "</table>\n",
              "</div>"
            ],
            "text/plain": [
              "    id  ...                                            Service\n",
              "0    0  ...  what we do at cloudflare, we have our eyes set...\n",
              "1    1  ...  amazon cloudfront is a web service for content...\n",
              "2    2  ...  fastly helps the world’s most popular digital ...\n",
              "3    3  ...  cdn77 is a content delivery network with 35+ p...\n",
              "4    4  ...  keycdn is a simple, fast & reliable content de...\n",
              "5    5  ...  imperva incapsula delivers an enterprise-grade...\n",
              "6    6  ...  linode accelerates innovation by making cloud ...\n",
              "7    7  ...  content delivery network for cloud platform go...\n",
              "8    8  ...  bootstrapcdn is the recommended cdn for bootst...\n",
              "9    9  ...  innovative content delivery network providing ...\n",
              "10  10  ...  accelerate your websites, web applications, an...\n",
              "11  11  ...  a fast and modern global delivery network for ...\n",
              "12  12  ...  the akamai intelligent platform is a cloud pla...\n",
              "13  13  ...  sucuri is a managed security service provider ...\n",
              "14  14  ...  at kollective, we make corporate networks smar...\n",
              "15  15  ...  cdnify is a flexible and easy-to-use content d...\n",
              "16  16  ...  launched in 2002, cachefly developed the world...\n",
              "17  17  ...  we are passionate web performance experts that...\n",
              "18  18  ...  ibm watson media (formerly ibm cloud video) pr...\n",
              "19  19  ...  cdnetworks enables global cloud acceleration w...\n",
              "\n",
              "[20 rows x 3 columns]"
            ]
          },
          "metadata": {
            "tags": []
          },
          "execution_count": 39
        }
      ]
    },
    {
      "cell_type": "code",
      "metadata": {
        "id": "5lUwWnlKbljc",
        "colab_type": "code",
        "colab": {
          "base_uri": "https://localhost:8080/",
          "height": 382
        },
        "outputId": "1b0ea753-c13c-49aa-bb65-90ae3f221199"
      },
      "source": [
        "df[\"Service\"] = df[\"Service\"].apply(lambda x: re.sub(r'[^a-zA-Z0-9]',' ',x))\n",
        "df['Service']    "
      ],
      "execution_count": 40,
      "outputs": [
        {
          "output_type": "execute_result",
          "data": {
            "text/plain": [
              "0     what we do at cloudflare  we have our eyes set...\n",
              "1     amazon cloudfront is a web service for content...\n",
              "2     fastly helps the world s most popular digital ...\n",
              "3     cdn77 is a content delivery network with 35  p...\n",
              "4     keycdn is a simple  fast   reliable content de...\n",
              "5     imperva incapsula delivers an enterprise grade...\n",
              "6     linode accelerates innovation by making cloud ...\n",
              "7     content delivery network for cloud platform go...\n",
              "8     bootstrapcdn is the recommended cdn for bootst...\n",
              "9     innovative content delivery network providing ...\n",
              "10    accelerate your websites  web applications  an...\n",
              "11    a fast and modern global delivery network for ...\n",
              "12    the akamai intelligent platform is a cloud pla...\n",
              "13    sucuri is a managed security service provider ...\n",
              "14    at kollective  we make corporate networks smar...\n",
              "15    cdnify is a flexible and easy to use content d...\n",
              "16    launched in 2002  cachefly developed the world...\n",
              "17    we are passionate web performance experts that...\n",
              "18    ibm watson media  formerly ibm cloud video  pr...\n",
              "19    cdnetworks enables global cloud acceleration w...\n",
              "Name: Service, dtype: object"
            ]
          },
          "metadata": {
            "tags": []
          },
          "execution_count": 40
        }
      ]
    },
    {
      "cell_type": "code",
      "metadata": {
        "id": "FZienTj1bsIY",
        "colab_type": "code",
        "colab": {
          "base_uri": "https://localhost:8080/",
          "height": 469
        },
        "outputId": "94b65bda-54f6-47cc-9880-aa583f1edc4d"
      },
      "source": [
        "Appostophes = {\"'s\":\"is\",\"'re\":\"are\"}\n",
        "df['Service']\n",
        "for i in range(len(df)):\n",
        "  words =  df['Service'][i]\n",
        "  for word in words:\n",
        "    if word == \"'s\":\n",
        "      word= \"is\"\n",
        "    elif word == \"'re\":\n",
        "      word =  \"are\"\n",
        "  df['Service'][i] = words\n",
        "\n",
        "df['Service']"
      ],
      "execution_count": 41,
      "outputs": [
        {
          "output_type": "stream",
          "text": [
            "/usr/local/lib/python3.6/dist-packages/ipykernel_launcher.py:10: SettingWithCopyWarning: \n",
            "A value is trying to be set on a copy of a slice from a DataFrame\n",
            "\n",
            "See the caveats in the documentation: https://pandas.pydata.org/pandas-docs/stable/user_guide/indexing.html#returning-a-view-versus-a-copy\n",
            "  # Remove the CWD from sys.path while we load stuff.\n"
          ],
          "name": "stderr"
        },
        {
          "output_type": "execute_result",
          "data": {
            "text/plain": [
              "0     what we do at cloudflare  we have our eyes set...\n",
              "1     amazon cloudfront is a web service for content...\n",
              "2     fastly helps the world s most popular digital ...\n",
              "3     cdn77 is a content delivery network with 35  p...\n",
              "4     keycdn is a simple  fast   reliable content de...\n",
              "5     imperva incapsula delivers an enterprise grade...\n",
              "6     linode accelerates innovation by making cloud ...\n",
              "7     content delivery network for cloud platform go...\n",
              "8     bootstrapcdn is the recommended cdn for bootst...\n",
              "9     innovative content delivery network providing ...\n",
              "10    accelerate your websites  web applications  an...\n",
              "11    a fast and modern global delivery network for ...\n",
              "12    the akamai intelligent platform is a cloud pla...\n",
              "13    sucuri is a managed security service provider ...\n",
              "14    at kollective  we make corporate networks smar...\n",
              "15    cdnify is a flexible and easy to use content d...\n",
              "16    launched in 2002  cachefly developed the world...\n",
              "17    we are passionate web performance experts that...\n",
              "18    ibm watson media  formerly ibm cloud video  pr...\n",
              "19    cdnetworks enables global cloud acceleration w...\n",
              "Name: Service, dtype: object"
            ]
          },
          "metadata": {
            "tags": []
          },
          "execution_count": 41
        }
      ]
    },
    {
      "cell_type": "code",
      "metadata": {
        "id": "cN6WTYB-byMX",
        "colab_type": "code",
        "colab": {
          "base_uri": "https://localhost:8080/",
          "height": 89
        },
        "outputId": "003311e1-69ef-484e-f5d4-d5afd2608632"
      },
      "source": [
        "documents = list(df['Service'])\n",
        "print(documents)\n",
        "import nltk\n",
        "nltk.download('stopwords')\n",
        "from nltk.corpus import stopwords\n",
        "\n",
        "stop_words = set(stopwords.words('english'))"
      ],
      "execution_count": 42,
      "outputs": [
        {
          "output_type": "stream",
          "text": [
            "['what we do at cloudflare  we have our eyes set on an ambitious goal    to help build a better internet  we believe that with our talented team  smart technology and engaged users we can solve some of the biggest problems on the internet', 'amazon cloudfront is a web service for content delivery  it integrates with other amazon web services to give developers and businesses an easy way to distribute content to end users with low latency  high data transfer speeds  and no commitments', 'fastly helps the world s most popular digital businesses keep pace with their customer expectations by delivering fast  secure  and scalable online experiences', 'cdn77 is a content delivery network with 35  points of presence around the world  incl  3 in south america   cdn77 has its own video processing and delivery platform called streamflow', 'keycdn is a simple  fast   reliable content delivery network with 25  pops strategicially located around the globe  keycdn offers the lowest price at  0 04 gb  every region   pay as you go and many advanced features such as http 2 support  free ssl  instant purging  a restful api  real time analytics  two factor auth  and 24  cms integrations  wordpress  drupal  joomla  magento  etc', 'imperva incapsula delivers an enterprise grade web application firewall to safeguard your site from the latest threats  an intelligent and instantly effective 360 degree anti ddos solutions  layers 3 4 and 7   a global cdn to speed up your website s load speed and minimize bandwidth usage and an array of performance monitoring and analytic services to provide insights about your website s security and performance', 'linode accelerates innovation by making cloud computing simple  accessible  and affordable to all  founded in 2003  linode helped pioneer the cloud computing industry and is today the largest independent open cloud provider in the world  headquartered in philadelphia s old city  the company empowers more than a million developers  startups  and businesses across its global network of data centers', 'content delivery network for cloud platform google cloud cdn leverages google  s globally distributed edge points of presence to accelerate content delivery for websites and applications served out of google compute engine and google cloud storage  cloud cdn lowers network latency  offloads origins  and reduces serving costs  once you ve set up http s  load balancing  simply enable cloud cdn with a single checkbox', 'bootstrapcdn is the recommended cdn for bootstrap  font awesome and bootswatch', 'innovative content delivery network providing cutting edge web services and info  like edgessl and dualcdn strategies', 'accelerate your websites  web applications  and media delivery', 'a fast and modern global delivery network for high bandwidth content', 'the akamai intelligent platform is a cloud platform for delivering secure  high performing user experiences to any device  anywhere  it reaches globally and delivers locally', 'sucuri is a managed security service provider for websites  our cloud based tools provide complete website security solution  including performance optimization via a cdn  mitigation of external attacks like vulnerability exploits and ddos attacks  and professional response in the event of security incident', 'at kollective  we make corporate networks smarter so your people can work better  the kollective platform scales existing it infrastructure to accelerate content delivery to the edge of the enterprise while minimizing network congestion', 'cdnify is a flexible and easy to use content delivery network built for developers  startups  and digital agencies to accelerate your website  speed up load times and provide a faster  more reliable experience for your customers', 'launched in 2002  cachefly developed the world s first tcp anycast based content delivery network the only network built for throughput  from the first byte to the last byte  cachefly delivers your files faster', 'we are passionate web performance experts that want to make the internet faster  dexecure is the only automatic web performance solution that accelerates websites  for better business results  dexecure automatically performs front end optimizations and partners with content delivery networks  cdn  to deliver the fastest loading site', 'ibm watson media  formerly ibm cloud video  provides an enterprise video solution  powered by watson ai  for creating  storing  managing  broadcasting and measuring the impact of live and recorded video', 'cdnetworks enables global cloud acceleration with 160 global points of presence including china  russia and other emerging markets']\n",
            "[nltk_data] Downloading package stopwords to /root/nltk_data...\n",
            "[nltk_data]   Package stopwords is already up-to-date!\n"
          ],
          "name": "stdout"
        }
      ]
    },
    {
      "cell_type": "code",
      "metadata": {
        "id": "SmvHBhw2b_-I",
        "colab_type": "code",
        "colab": {
          "base_uri": "https://localhost:8080/",
          "height": 208
        },
        "outputId": "f8a62309-62d5-493f-84a2-c48cc19b81e0"
      },
      "source": [
        "import nltk\n",
        "nltk.download('punkt')\n",
        "nltk.download('averaged_perceptron_tagger')\n",
        "nltk.download('maxent_ne_chunker')\n",
        "nltk.download('words')\n",
        "def extract_entities(name, text):\n",
        "    # Lopping over the sentences of the text\n",
        "    for sent in nltk.sent_tokenize(text):\n",
        "        # nltk.word_tokeize returns a list of words composing a sentence\n",
        "        # nltk.pos_tag returns the position tag of words in the sentence\n",
        "        # nltk.ne_chunk returns a label to each word based on this position tag when possible\n",
        "        for chunk in nltk.ne_chunk(nltk.pos_tag(nltk.word_tokenize(sent))):\n",
        "            try:\n",
        "                if chunk.label() == 'PERSON':\n",
        "                    for c in chunk.leaves():\n",
        "                        if str(c[0].lower()) not in name:\n",
        "                            name.append(str(c[0]).lower())\n",
        "            except AttributeError:\n",
        "                pass\n",
        "    return name\n",
        "## \n",
        "names = []\n",
        "for doc in documents:\n",
        "    names = extract_entities(names, doc)\n",
        "## Update the stop words list\n",
        "stop_words.update(names)"
      ],
      "execution_count": 43,
      "outputs": [
        {
          "output_type": "stream",
          "text": [
            "[nltk_data] Downloading package punkt to /root/nltk_data...\n",
            "[nltk_data]   Package punkt is already up-to-date!\n",
            "[nltk_data] Downloading package averaged_perceptron_tagger to\n",
            "[nltk_data]     /root/nltk_data...\n",
            "[nltk_data]   Package averaged_perceptron_tagger is already up-to-\n",
            "[nltk_data]       date!\n",
            "[nltk_data] Downloading package maxent_ne_chunker to\n",
            "[nltk_data]     /root/nltk_data...\n",
            "[nltk_data]   Package maxent_ne_chunker is already up-to-date!\n",
            "[nltk_data] Downloading package words to /root/nltk_data...\n",
            "[nltk_data]   Package words is already up-to-date!\n"
          ],
          "name": "stdout"
        }
      ]
    },
    {
      "cell_type": "code",
      "metadata": {
        "id": "zIzPD0uxcGkr",
        "colab_type": "code",
        "colab": {
          "base_uri": "https://localhost:8080/",
          "height": 54
        },
        "outputId": "00576acb-7ecf-4365-830e-35244a61cfe9"
      },
      "source": [
        "from nltk.stem import SnowballStemmer\n",
        "stemmer = SnowballStemmer(\"english\")\n",
        "texts = [[stemmer.stem(word) for word in document.lower().split() if (word not in stop_words)]\n",
        "          for document in documents]\n",
        "\n",
        "print(texts)"
      ],
      "execution_count": 44,
      "outputs": [
        {
          "output_type": "stream",
          "text": [
            "[['cloudflar', 'eye', 'set', 'ambiti', 'goal', 'help', 'build', 'better', 'internet', 'believ', 'talent', 'team', 'smart', 'technolog', 'engag', 'user', 'solv', 'biggest', 'problem', 'internet'], ['amazon', 'cloudfront', 'web', 'servic', 'content', 'deliveri', 'integr', 'amazon', 'web', 'servic', 'give', 'develop', 'busi', 'easi', 'way', 'distribut', 'content', 'end', 'user', 'low', 'latenc', 'high', 'data', 'transfer', 'speed', 'commit'], ['fast', 'help', 'world', 'popular', 'digit', 'busi', 'keep', 'pace', 'custom', 'expect', 'deliv', 'fast', 'secur', 'scalabl', 'onlin', 'experi'], ['cdn77', 'content', 'deliveri', 'network', '35', 'point', 'presenc', 'around', 'world', 'incl', '3', 'south', 'america', 'cdn77', 'video', 'process', 'deliveri', 'platform', 'call', 'streamflow'], ['keycdn', 'simpl', 'fast', 'reliabl', 'content', 'deliveri', 'network', '25', 'pop', 'strategici', 'locat', 'around', 'globe', 'keycdn', 'offer', 'lowest', 'price', '0', '04', 'gb', 'everi', 'region', 'pay', 'go', 'mani', 'advanc', 'featur', 'http', '2', 'support', 'free', 'ssl', 'instant', 'purg', 'rest', 'api', 'real', 'time', 'analyt', 'two', 'factor', 'auth', '24', 'cms', 'integr', 'wordpress', 'drupal', 'joomla', 'magento', 'etc'], ['imperva', 'incapsula', 'deliv', 'enterpris', 'grade', 'web', 'applic', 'firewal', 'safeguard', 'site', 'latest', 'threat', 'intellig', 'instant', 'effect', '360', 'degre', 'anti', 'ddos', 'solut', 'layer', '3', '4', '7', 'global', 'cdn', 'speed', 'websit', 'load', 'speed', 'minim', 'bandwidth', 'usag', 'array', 'perform', 'monitor', 'analyt', 'servic', 'provid', 'insight', 'websit', 'secur', 'perform'], ['linod', 'acceler', 'innov', 'make', 'cloud', 'comput', 'simpl', 'access', 'afford', 'found', '2003', 'linod', 'help', 'pioneer', 'cloud', 'comput', 'industri', 'today', 'largest', 'independ', 'open', 'cloud', 'provid', 'world', 'headquart', 'philadelphia', 'old', 'citi', 'compani', 'empow', 'million', 'develop', 'startup', 'busi', 'across', 'global', 'network', 'data', 'center'], ['content', 'deliveri', 'network', 'cloud', 'platform', 'googl', 'cloud', 'cdn', 'leverag', 'googl', 'global', 'distribut', 'edg', 'point', 'presenc', 'acceler', 'content', 'deliveri', 'websit', 'applic', 'serv', 'googl', 'comput', 'engin', 'googl', 'cloud', 'storag', 'cloud', 'cdn', 'lower', 'network', 'latenc', 'offload', 'origin', 'reduc', 'serv', 'cost', 'set', 'http', 'load', 'balanc', 'simpli', 'enabl', 'cloud', 'cdn', 'singl', 'checkbox'], ['bootstrapcdn', 'recommend', 'cdn', 'bootstrap', 'font', 'awesom', 'bootswatch'], ['innov', 'content', 'deliveri', 'network', 'provid', 'cut', 'edg', 'web', 'servic', 'info', 'like', 'edgessl', 'dualcdn', 'strategi'], ['acceler', 'websit', 'web', 'applic', 'media', 'deliveri'], ['fast', 'modern', 'global', 'deliveri', 'network', 'high', 'bandwidth', 'content'], ['akamai', 'intellig', 'platform', 'cloud', 'platform', 'deliv', 'secur', 'high', 'perform', 'user', 'experi', 'devic', 'anywher', 'reach', 'global', 'deliv', 'local'], ['sucuri', 'manag', 'secur', 'servic', 'provid', 'websit', 'cloud', 'base', 'tool', 'provid', 'complet', 'websit', 'secur', 'solut', 'includ', 'perform', 'optim', 'via', 'cdn', 'mitig', 'extern', 'attack', 'like', 'vulner', 'exploit', 'ddos', 'attack', 'profession', 'respons', 'event', 'secur', 'incid'], ['kollect', 'make', 'corpor', 'network', 'smarter', 'peopl', 'work', 'better', 'kollect', 'platform', 'scale', 'exist', 'infrastructur', 'acceler', 'content', 'deliveri', 'edg', 'enterpris', 'minim', 'network', 'congest'], ['cdnifi', 'flexibl', 'easi', 'use', 'content', 'deliveri', 'network', 'built', 'develop', 'startup', 'digit', 'agenc', 'acceler', 'websit', 'speed', 'load', 'time', 'provid', 'faster', 'reliabl', 'experi', 'custom'], ['launch', '2002', 'cachefli', 'develop', 'world', 'first', 'tcp', 'anycast', 'base', 'content', 'deliveri', 'network', 'network', 'built', 'throughput', 'first', 'byte', 'last', 'byte', 'cachefli', 'deliv', 'file', 'faster'], ['passion', 'web', 'perform', 'expert', 'want', 'make', 'internet', 'faster', 'dexecur', 'automat', 'web', 'perform', 'solut', 'acceler', 'websit', 'better', 'busi', 'result', 'dexecur', 'automat', 'perform', 'front', 'end', 'optim', 'partner', 'content', 'deliveri', 'network', 'cdn', 'deliv', 'fastest', 'load', 'site'], ['ibm', 'watson', 'media', 'former', 'ibm', 'cloud', 'video', 'provid', 'enterpris', 'video', 'solut', 'power', 'watson', 'ai', 'creat', 'store', 'manag', 'broadcast', 'measur', 'impact', 'live', 'record', 'video'], ['cdnetwork', 'enabl', 'global', 'cloud', 'acceler', '160', 'global', 'point', 'presenc', 'includ', 'china', 'russia', 'emerg', 'market']]\n"
          ],
          "name": "stdout"
        }
      ]
    },
    {
      "cell_type": "code",
      "metadata": {
        "id": "RNKS8Q9CcOwR",
        "colab_type": "code",
        "colab": {}
      },
      "source": [
        "from gensim import corpora, models, similarities\n",
        "dictionary = corpora.Dictionary(texts)\n"
      ],
      "execution_count": 0,
      "outputs": []
    },
    {
      "cell_type": "code",
      "metadata": {
        "id": "lWTr75kjcYDQ",
        "colab_type": "code",
        "colab": {
          "base_uri": "https://localhost:8080/",
          "height": 364
        },
        "outputId": "d0237285-294d-4cd3-8263-a5d58513b425"
      },
      "source": [
        "import itertools\n",
        "list(itertools.islice(dictionary.token2id.items(), 0, 20))\n"
      ],
      "execution_count": 46,
      "outputs": [
        {
          "output_type": "execute_result",
          "data": {
            "text/plain": [
              "[('ambiti', 0),\n",
              " ('believ', 1),\n",
              " ('better', 2),\n",
              " ('biggest', 3),\n",
              " ('build', 4),\n",
              " ('cloudflar', 5),\n",
              " ('engag', 6),\n",
              " ('eye', 7),\n",
              " ('goal', 8),\n",
              " ('help', 9),\n",
              " ('internet', 10),\n",
              " ('problem', 11),\n",
              " ('set', 12),\n",
              " ('smart', 13),\n",
              " ('solv', 14),\n",
              " ('talent', 15),\n",
              " ('team', 16),\n",
              " ('technolog', 17),\n",
              " ('user', 18),\n",
              " ('amazon', 19)]"
            ]
          },
          "metadata": {
            "tags": []
          },
          "execution_count": 46
        }
      ]
    },
    {
      "cell_type": "code",
      "metadata": {
        "id": "P6tEa4CDchOt",
        "colab_type": "code",
        "colab": {
          "base_uri": "https://localhost:8080/",
          "height": 1000
        },
        "outputId": "fe03c911-2e95-4733-d3c4-37562d26e5cb"
      },
      "source": [
        "corpus = [dictionary.doc2bow(text) for text in texts]\n",
        "corpus"
      ],
      "execution_count": 47,
      "outputs": [
        {
          "output_type": "execute_result",
          "data": {
            "text/plain": [
              "[[(0, 1),\n",
              "  (1, 1),\n",
              "  (2, 1),\n",
              "  (3, 1),\n",
              "  (4, 1),\n",
              "  (5, 1),\n",
              "  (6, 1),\n",
              "  (7, 1),\n",
              "  (8, 1),\n",
              "  (9, 1),\n",
              "  (10, 2),\n",
              "  (11, 1),\n",
              "  (12, 1),\n",
              "  (13, 1),\n",
              "  (14, 1),\n",
              "  (15, 1),\n",
              "  (16, 1),\n",
              "  (17, 1),\n",
              "  (18, 1)],\n",
              " [(18, 1),\n",
              "  (19, 2),\n",
              "  (20, 1),\n",
              "  (21, 1),\n",
              "  (22, 1),\n",
              "  (23, 2),\n",
              "  (24, 1),\n",
              "  (25, 1),\n",
              "  (26, 1),\n",
              "  (27, 1),\n",
              "  (28, 1),\n",
              "  (29, 1),\n",
              "  (30, 1),\n",
              "  (31, 1),\n",
              "  (32, 1),\n",
              "  (33, 1),\n",
              "  (34, 1),\n",
              "  (35, 2),\n",
              "  (36, 1),\n",
              "  (37, 1),\n",
              "  (38, 1),\n",
              "  (39, 2)],\n",
              " [(9, 1),\n",
              "  (20, 1),\n",
              "  (40, 1),\n",
              "  (41, 1),\n",
              "  (42, 1),\n",
              "  (43, 1),\n",
              "  (44, 1),\n",
              "  (45, 2),\n",
              "  (46, 1),\n",
              "  (47, 1),\n",
              "  (48, 1),\n",
              "  (49, 1),\n",
              "  (50, 1),\n",
              "  (51, 1),\n",
              "  (52, 1)],\n",
              " [(23, 1),\n",
              "  (25, 2),\n",
              "  (52, 1),\n",
              "  (53, 1),\n",
              "  (54, 1),\n",
              "  (55, 1),\n",
              "  (56, 1),\n",
              "  (57, 1),\n",
              "  (58, 2),\n",
              "  (59, 1),\n",
              "  (60, 1),\n",
              "  (61, 1),\n",
              "  (62, 1),\n",
              "  (63, 1),\n",
              "  (64, 1),\n",
              "  (65, 1),\n",
              "  (66, 1),\n",
              "  (67, 1)],\n",
              " [(23, 1),\n",
              "  (25, 1),\n",
              "  (32, 1),\n",
              "  (45, 1),\n",
              "  (56, 1),\n",
              "  (60, 1),\n",
              "  (68, 1),\n",
              "  (69, 1),\n",
              "  (70, 1),\n",
              "  (71, 1),\n",
              "  (72, 1),\n",
              "  (73, 1),\n",
              "  (74, 1),\n",
              "  (75, 1),\n",
              "  (76, 1),\n",
              "  (77, 1),\n",
              "  (78, 1),\n",
              "  (79, 1),\n",
              "  (80, 1),\n",
              "  (81, 1),\n",
              "  (82, 1),\n",
              "  (83, 1),\n",
              "  (84, 1),\n",
              "  (85, 1),\n",
              "  (86, 1),\n",
              "  (87, 1),\n",
              "  (88, 1),\n",
              "  (89, 1),\n",
              "  (90, 2),\n",
              "  (91, 1),\n",
              "  (92, 1),\n",
              "  (93, 1),\n",
              "  (94, 1),\n",
              "  (95, 1),\n",
              "  (96, 1),\n",
              "  (97, 1),\n",
              "  (98, 1),\n",
              "  (99, 1),\n",
              "  (100, 1),\n",
              "  (101, 1),\n",
              "  (102, 1),\n",
              "  (103, 1),\n",
              "  (104, 1),\n",
              "  (105, 1),\n",
              "  (106, 1),\n",
              "  (107, 1),\n",
              "  (108, 1),\n",
              "  (109, 1),\n",
              "  (110, 1)],\n",
              " [(35, 1),\n",
              "  (36, 2),\n",
              "  (39, 1),\n",
              "  (41, 1),\n",
              "  (51, 1),\n",
              "  (53, 1),\n",
              "  (74, 1),\n",
              "  (88, 1),\n",
              "  (111, 1),\n",
              "  (112, 1),\n",
              "  (113, 1),\n",
              "  (114, 1),\n",
              "  (115, 1),\n",
              "  (116, 1),\n",
              "  (117, 1),\n",
              "  (118, 1),\n",
              "  (119, 1),\n",
              "  (120, 1),\n",
              "  (121, 1),\n",
              "  (122, 1),\n",
              "  (123, 1),\n",
              "  (124, 1),\n",
              "  (125, 1),\n",
              "  (126, 1),\n",
              "  (127, 1),\n",
              "  (128, 1),\n",
              "  (129, 1),\n",
              "  (130, 1),\n",
              "  (131, 1),\n",
              "  (132, 1),\n",
              "  (133, 1),\n",
              "  (134, 1),\n",
              "  (135, 2),\n",
              "  (136, 1),\n",
              "  (137, 1),\n",
              "  (138, 1),\n",
              "  (139, 1),\n",
              "  (140, 1),\n",
              "  (141, 1),\n",
              "  (142, 2)],\n",
              " [(9, 1),\n",
              "  (20, 1),\n",
              "  (24, 1),\n",
              "  (26, 1),\n",
              "  (52, 1),\n",
              "  (60, 1),\n",
              "  (104, 1),\n",
              "  (124, 1),\n",
              "  (136, 1),\n",
              "  (143, 1),\n",
              "  (144, 1),\n",
              "  (145, 1),\n",
              "  (146, 1),\n",
              "  (147, 1),\n",
              "  (148, 1),\n",
              "  (149, 1),\n",
              "  (150, 3),\n",
              "  (151, 1),\n",
              "  (152, 2),\n",
              "  (153, 1),\n",
              "  (154, 1),\n",
              "  (155, 1),\n",
              "  (156, 1),\n",
              "  (157, 1),\n",
              "  (158, 1),\n",
              "  (159, 1),\n",
              "  (160, 2),\n",
              "  (161, 1),\n",
              "  (162, 1),\n",
              "  (163, 1),\n",
              "  (164, 1),\n",
              "  (165, 1),\n",
              "  (166, 1),\n",
              "  (167, 1),\n",
              "  (168, 1)],\n",
              " [(12, 1),\n",
              "  (23, 2),\n",
              "  (25, 2),\n",
              "  (27, 1),\n",
              "  (33, 1),\n",
              "  (60, 2),\n",
              "  (61, 1),\n",
              "  (62, 1),\n",
              "  (63, 1),\n",
              "  (87, 1),\n",
              "  (115, 1),\n",
              "  (118, 3),\n",
              "  (124, 1),\n",
              "  (132, 1),\n",
              "  (142, 1),\n",
              "  (144, 1),\n",
              "  (150, 5),\n",
              "  (152, 1),\n",
              "  (169, 1),\n",
              "  (170, 1),\n",
              "  (171, 1),\n",
              "  (172, 1),\n",
              "  (173, 1),\n",
              "  (174, 1),\n",
              "  (175, 4),\n",
              "  (176, 1),\n",
              "  (177, 1),\n",
              "  (178, 1),\n",
              "  (179, 1),\n",
              "  (180, 1),\n",
              "  (181, 2),\n",
              "  (182, 1),\n",
              "  (183, 1),\n",
              "  (184, 1)],\n",
              " [(118, 1), (185, 1), (186, 1), (187, 1), (188, 1), (189, 1), (190, 1)],\n",
              " [(23, 1),\n",
              "  (25, 1),\n",
              "  (35, 1),\n",
              "  (39, 1),\n",
              "  (60, 1),\n",
              "  (136, 1),\n",
              "  (158, 1),\n",
              "  (172, 1),\n",
              "  (191, 1),\n",
              "  (192, 1),\n",
              "  (193, 1),\n",
              "  (194, 1),\n",
              "  (195, 1),\n",
              "  (196, 1)],\n",
              " [(25, 1), (39, 1), (115, 1), (142, 1), (144, 1), (197, 1)],\n",
              " [(23, 1), (25, 1), (31, 1), (45, 1), (60, 1), (117, 1), (124, 1), (198, 1)],\n",
              " [(18, 1),\n",
              "  (31, 1),\n",
              "  (41, 2),\n",
              "  (44, 1),\n",
              "  (51, 1),\n",
              "  (61, 2),\n",
              "  (124, 1),\n",
              "  (129, 1),\n",
              "  (135, 1),\n",
              "  (150, 1),\n",
              "  (199, 1),\n",
              "  (200, 1),\n",
              "  (201, 1),\n",
              "  (202, 1),\n",
              "  (203, 1)],\n",
              " [(35, 1),\n",
              "  (51, 3),\n",
              "  (118, 1),\n",
              "  (119, 1),\n",
              "  (135, 1),\n",
              "  (136, 2),\n",
              "  (139, 1),\n",
              "  (142, 2),\n",
              "  (150, 1),\n",
              "  (195, 1),\n",
              "  (204, 2),\n",
              "  (205, 1),\n",
              "  (206, 1),\n",
              "  (207, 1),\n",
              "  (208, 1),\n",
              "  (209, 1),\n",
              "  (210, 1),\n",
              "  (211, 1),\n",
              "  (212, 1),\n",
              "  (213, 1),\n",
              "  (214, 1),\n",
              "  (215, 1),\n",
              "  (216, 1),\n",
              "  (217, 1),\n",
              "  (218, 1),\n",
              "  (219, 1),\n",
              "  (220, 1)],\n",
              " [(2, 1),\n",
              "  (23, 1),\n",
              "  (25, 1),\n",
              "  (60, 2),\n",
              "  (61, 1),\n",
              "  (122, 1),\n",
              "  (133, 1),\n",
              "  (144, 1),\n",
              "  (161, 1),\n",
              "  (172, 1),\n",
              "  (221, 1),\n",
              "  (222, 1),\n",
              "  (223, 1),\n",
              "  (224, 1),\n",
              "  (225, 2),\n",
              "  (226, 1),\n",
              "  (227, 1),\n",
              "  (228, 1),\n",
              "  (229, 1)],\n",
              " [(23, 1),\n",
              "  (25, 1),\n",
              "  (26, 1),\n",
              "  (28, 1),\n",
              "  (36, 1),\n",
              "  (40, 1),\n",
              "  (42, 1),\n",
              "  (44, 1),\n",
              "  (60, 1),\n",
              "  (102, 1),\n",
              "  (108, 1),\n",
              "  (132, 1),\n",
              "  (136, 1),\n",
              "  (142, 1),\n",
              "  (144, 1),\n",
              "  (167, 1),\n",
              "  (230, 1),\n",
              "  (231, 1),\n",
              "  (232, 1),\n",
              "  (233, 1),\n",
              "  (234, 1),\n",
              "  (235, 1)],\n",
              " [(23, 1),\n",
              "  (25, 1),\n",
              "  (26, 1),\n",
              "  (41, 1),\n",
              "  (52, 1),\n",
              "  (60, 2),\n",
              "  (205, 1),\n",
              "  (231, 1),\n",
              "  (233, 1),\n",
              "  (236, 1),\n",
              "  (237, 1),\n",
              "  (238, 2),\n",
              "  (239, 2),\n",
              "  (240, 1),\n",
              "  (241, 2),\n",
              "  (242, 1),\n",
              "  (243, 1),\n",
              "  (244, 1),\n",
              "  (245, 1)],\n",
              " [(2, 1),\n",
              "  (10, 1),\n",
              "  (20, 1),\n",
              "  (23, 1),\n",
              "  (25, 1),\n",
              "  (29, 1),\n",
              "  (39, 2),\n",
              "  (41, 1),\n",
              "  (60, 1),\n",
              "  (118, 1),\n",
              "  (132, 1),\n",
              "  (135, 3),\n",
              "  (138, 1),\n",
              "  (139, 1),\n",
              "  (142, 1),\n",
              "  (144, 1),\n",
              "  (161, 1),\n",
              "  (214, 1),\n",
              "  (233, 1),\n",
              "  (246, 2),\n",
              "  (247, 2),\n",
              "  (248, 1),\n",
              "  (249, 1),\n",
              "  (250, 1),\n",
              "  (251, 1),\n",
              "  (252, 1),\n",
              "  (253, 1),\n",
              "  (254, 1)],\n",
              " [(67, 3),\n",
              "  (122, 1),\n",
              "  (136, 1),\n",
              "  (139, 1),\n",
              "  (150, 1),\n",
              "  (197, 1),\n",
              "  (212, 1),\n",
              "  (255, 1),\n",
              "  (256, 1),\n",
              "  (257, 1),\n",
              "  (258, 1),\n",
              "  (259, 2),\n",
              "  (260, 1),\n",
              "  (261, 1),\n",
              "  (262, 1),\n",
              "  (263, 1),\n",
              "  (264, 1),\n",
              "  (265, 1),\n",
              "  (266, 2)],\n",
              " [(62, 1),\n",
              "  (63, 1),\n",
              "  (124, 2),\n",
              "  (144, 1),\n",
              "  (150, 1),\n",
              "  (173, 1),\n",
              "  (211, 1),\n",
              "  (267, 1),\n",
              "  (268, 1),\n",
              "  (269, 1),\n",
              "  (270, 1),\n",
              "  (271, 1),\n",
              "  (272, 1)]]"
            ]
          },
          "metadata": {
            "tags": []
          },
          "execution_count": 47
        }
      ]
    },
    {
      "cell_type": "code",
      "metadata": {
        "id": "UiJWeS-Jcrrx",
        "colab_type": "code",
        "colab": {
          "base_uri": "https://localhost:8080/",
          "height": 34
        },
        "outputId": "78924576-f117-4065-eb22-d374a670b0b3"
      },
      "source": [
        "tfidf = models.TfidfModel(corpus)\n",
        "corpus_tfidf = tfidf[corpus]\n",
        "\n",
        "corpus_tfidf"
      ],
      "execution_count": 48,
      "outputs": [
        {
          "output_type": "execute_result",
          "data": {
            "text/plain": [
              "<gensim.interfaces.TransformedCorpus at 0x7ff5ce24e470>"
            ]
          },
          "metadata": {
            "tags": []
          },
          "execution_count": 48
        }
      ]
    },
    {
      "cell_type": "code",
      "metadata": {
        "id": "VTU1yHXzcyHZ",
        "colab_type": "code",
        "colab": {}
      },
      "source": [
        "import gensim\n",
        "import numpy as np\n",
        "\n",
        "corpus_tfidf_csr = gensim.matutils.corpus2csc(corpus_tfidf)\n",
        "corpus_tfidf_numpy = corpus_tfidf_csr.T.toarray()"
      ],
      "execution_count": 0,
      "outputs": []
    },
    {
      "cell_type": "code",
      "metadata": {
        "id": "mCn1e0vYc5W5",
        "colab_type": "code",
        "colab": {}
      },
      "source": [
        "from sklearn.feature_extraction.text import TfidfVectorizer\n",
        "from sklearn.metrics.pairwise import linear_kernel \n",
        "cosine_similarities = linear_kernel(corpus_tfidf_numpy, corpus_tfidf_numpy) \n",
        "results = {}\n",
        "idx = 0\n",
        "row = 0\n",
        "count = 0\n",
        "for idx, row in df.iterrows():\n",
        "   similar_indices = cosine_similarities[idx].argsort()[:-100:-1] \n",
        "   similar_items = [(cosine_similarities[idx][i], df['id'][i]) for i in similar_indices] \n",
        "   results[row['id']] = similar_items[1:]"
      ],
      "execution_count": 0,
      "outputs": []
    },
    {
      "cell_type": "code",
      "metadata": {
        "id": "LWts6lGEdCR1",
        "colab_type": "code",
        "colab": {}
      },
      "source": [
        "#Checking the results\n",
        "\n",
        "def item(id):  \n",
        "  return df.loc[df['id'] == id]['website'].tolist()[0].split(' - ')[0] \n",
        "\n",
        "def recommend(item_id, num):\n",
        "    print(\"Recommending \" + str(num) + \" products similar to \" + item(item_id) + \"...\")   \n",
        "    print(\"-------\")    \n",
        "    recs = results[item_id][:num]   \n",
        "    for rec in recs: \n",
        "       print(\"Recommended: \" + item(rec[1]) + \" (score:\" +      str(rec[0]) + \")\")"
      ],
      "execution_count": 0,
      "outputs": []
    },
    {
      "cell_type": "code",
      "metadata": {
        "id": "FCEozSl4dEEx",
        "colab_type": "code",
        "colab": {
          "base_uri": "https://localhost:8080/",
          "height": 139
        },
        "outputId": "fec3489e-be15-4a1c-80ff-683b6902fb5e"
      },
      "source": [
        "#Recommendations results again the performance is not that much good but still it works\n",
        "recommend(item_id=1,num=5)"
      ],
      "execution_count": 52,
      "outputs": [
        {
          "output_type": "stream",
          "text": [
            "Recommending 5 products similar to Amazon CloudFront...\n",
            "-------\n",
            "Recommended: CDNify (score:0.1049838103636187)\n",
            "Recommended: StackPath CDN (score:0.10105379012733819)\n",
            "Recommended: Dexecure (score:0.09212860316978821)\n",
            "Recommended: Rackspace CDN (score:0.0902306567126283)\n",
            "Recommended: Imperva Incapsula (score:0.07996080297704466)\n"
          ],
          "name": "stdout"
        }
      ]
    }
  ]
}